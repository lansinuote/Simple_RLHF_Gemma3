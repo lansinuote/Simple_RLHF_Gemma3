{
 "cells": [
  {
   "cell_type": "code",
   "execution_count": 1,
   "metadata": {},
   "outputs": [
    {
     "data": {
      "text/plain": [
       "(('1294+3711=', '5005'), ('+124=', '125'))"
      ]
     },
     "execution_count": 1,
     "metadata": {},
     "output_type": "execute_result"
    }
   ],
   "source": [
    "import random\n",
    "\n",
    "\n",
    "def get_qa(pre_answer=None):\n",
    "    n1, n2 = random.randint(0, 9999), random.randint(0, 9999)\n",
    "\n",
    "    q = '%d+%d=' % (n1, n2)\n",
    "    if pre_answer:\n",
    "        q = '+%d=' % (n2)\n",
    "        n1 = int(pre_answer)\n",
    "\n",
    "    a = '%d' % (n1 + n2)\n",
    "\n",
    "    return q, a\n",
    "\n",
    "\n",
    "get_qa(), get_qa('1')"
   ]
  },
  {
   "cell_type": "code",
   "execution_count": 2,
   "metadata": {},
   "outputs": [
    {
     "data": {
      "text/plain": [
       "('6761+646=', '7407')"
      ]
     },
     "execution_count": 2,
     "metadata": {},
     "output_type": "execute_result"
    }
   ],
   "source": [
    "def get_multi_qa():\n",
    "    q, a = get_qa()\n",
    "    text = q\n",
    "\n",
    "    depth = random.randint(0, 2)\n",
    "\n",
    "    if depth != 0:\n",
    "        text += a\n",
    "\n",
    "    for i in range(depth):\n",
    "        q, a = get_qa(a)\n",
    "        text += q\n",
    "        if i < depth - 1:\n",
    "            text += a\n",
    "\n",
    "    return text, a\n",
    "\n",
    "\n",
    "get_multi_qa()"
   ]
  },
  {
   "cell_type": "code",
   "execution_count": 3,
   "metadata": {},
   "outputs": [
    {
     "data": {
      "text/plain": [
       "{'text': ['3148+1302=4450+7445=11948',\n",
       "  '9635+4278=13913',\n",
       "  '8869+332=9201+1121=10322',\n",
       "  '7143+1019=8140',\n",
       "  '5666+8694=14360+1764=16124+432=16556',\n",
       "  '2757+198=2955+8901=11856+2442=14298',\n",
       "  '3122+8633=11933',\n",
       "  '5886+7689=13575',\n",
       "  '9271+2340=11611',\n",
       "  '4322+5819=10193',\n",
       "  '727+4349=5076+4230=9282',\n",
       "  '1817+4521=6338+3512=9850+3866=13857',\n",
       "  '7315+9697=17012+8542=25554+9646=35200',\n",
       "  '9110+4425=13535+7864=21399',\n",
       "  '377+499=876+2613=3489+8336=11825',\n",
       "  '907+2202=3109+5324=8435'],\n",
       " 'label': tensor([0, 1, 1, 0, 1, 1, 0, 1, 1, 0, 0, 0, 1, 1, 1, 0])}"
      ]
     },
     "execution_count": 3,
     "metadata": {},
     "output_type": "execute_result"
    }
   ],
   "source": [
    "import random\n",
    "import torch\n",
    "\n",
    "\n",
    "class Dataset(torch.utils.data.Dataset):\n",
    "\n",
    "    def __init__(self, negative_label, with_answer):\n",
    "        self.negative_label = negative_label\n",
    "        self.with_answer = with_answer\n",
    "\n",
    "    def __len__(self):\n",
    "        return 100_0000\n",
    "\n",
    "    def __getitem__(self, _):\n",
    "        q, a = get_multi_qa()\n",
    "\n",
    "        label = 1\n",
    "        if self.negative_label and random.random() > 0.5:\n",
    "            label = 0\n",
    "            a = int(a)\n",
    "            a = a + int(random.normalvariate(0, a**0.5)) + random.randint(\n",
    "                -15, 15)\n",
    "            if a < 0:\n",
    "                a = 0\n",
    "            a = '%d' % a\n",
    "\n",
    "        if not self.with_answer:\n",
    "            a = ''\n",
    "\n",
    "        text = q + a\n",
    "\n",
    "        return {'text': text, 'label': label}\n",
    "\n",
    "\n",
    "def get_loader(collate_fn, negative_label, with_answer):\n",
    "    dataset = Dataset(negative_label=negative_label, with_answer=with_answer)\n",
    "    return torch.utils.data.DataLoader(dataset,\n",
    "                                       batch_size=16,\n",
    "                                       shuffle=True,\n",
    "                                       drop_last=True,\n",
    "                                       collate_fn=collate_fn)\n",
    "\n",
    "\n",
    "next(iter(get_loader(None, negative_label=True, with_answer=True)))"
   ]
  }
 ],
 "metadata": {
  "kernelspec": {
   "display_name": "Python [conda env:pt2]",
   "language": "python",
   "name": "conda-env-pt2-py"
  },
  "language_info": {
   "codemirror_mode": {
    "name": "ipython",
    "version": 3
   },
   "file_extension": ".py",
   "mimetype": "text/x-python",
   "name": "python",
   "nbconvert_exporter": "python",
   "pygments_lexer": "ipython3",
   "version": "3.10.16"
  }
 },
 "nbformat": 4,
 "nbformat_minor": 2
}
