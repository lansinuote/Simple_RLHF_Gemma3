{
 "cells": [
  {
   "cell_type": "code",
   "execution_count": 1,
   "metadata": {},
   "outputs": [
    {
     "data": {
      "text/plain": [
       "{'text': ['6193+7025=13218',\n",
       "  '2174+8411=358',\n",
       "  '80+9232=9312',\n",
       "  '2256+950=-193',\n",
       "  '5584+2872=8456',\n",
       "  '3720+2071=2824',\n",
       "  '6250+3285=9535',\n",
       "  '1538+510=2048',\n",
       "  '7546+9589=9930',\n",
       "  '8725+8117=16842',\n",
       "  '1862+2908=1619',\n",
       "  '9393+7506=10590',\n",
       "  '7217+2998=10215',\n",
       "  '981+8710=9691',\n",
       "  '7639+6217=15084',\n",
       "  '1320+3771=5091'],\n",
       " 'label': tensor([1, 0, 1, 0, 1, 0, 1, 1, 0, 1, 0, 0, 1, 1, 0, 1])}"
      ]
     },
     "execution_count": 1,
     "metadata": {},
     "output_type": "execute_result"
    }
   ],
   "source": [
    "import random\n",
    "import torch\n",
    "\n",
    "\n",
    "class Dataset(torch.utils.data.Dataset):\n",
    "\n",
    "    def __init__(self, negative_label, with_answer):\n",
    "        self.negative_label = negative_label\n",
    "        self.with_answer = with_answer\n",
    "\n",
    "    def __len__(self):\n",
    "        return 100_0000\n",
    "\n",
    "    def __getitem__(self, _):\n",
    "        question = '%d+%d' % (random.randint(0, 9999), random.randint(0, 9999))\n",
    "        answer = int(eval(question))\n",
    "\n",
    "        label = 1\n",
    "        if self.negative_label and random.random() > 0.5:\n",
    "            label = 0\n",
    "            answer = answer + int(random.normalvariate(\n",
    "                0, answer)) + random.randint(-100, 100)\n",
    "\n",
    "        if not self.with_answer:\n",
    "            answer = ''\n",
    "\n",
    "        text = '%s=%s' % (question, str(answer))\n",
    "\n",
    "        return {'text': text, 'label': label}\n",
    "\n",
    "\n",
    "def get_loader(collate_fn, negative_label, with_answer):\n",
    "    dataset = Dataset(negative_label=negative_label, with_answer=with_answer)\n",
    "    return torch.utils.data.DataLoader(dataset,\n",
    "                                       batch_size=16,\n",
    "                                       shuffle=True,\n",
    "                                       drop_last=True,\n",
    "                                       collate_fn=collate_fn)\n",
    "\n",
    "\n",
    "next(iter(get_loader(None, negative_label=True, with_answer=True)))"
   ]
  }
 ],
 "metadata": {
  "kernelspec": {
   "display_name": "Python [conda env:pt2]",
   "language": "python",
   "name": "conda-env-pt2-py"
  },
  "language_info": {
   "codemirror_mode": {
    "name": "ipython",
    "version": 3
   },
   "file_extension": ".py",
   "mimetype": "text/x-python",
   "name": "python",
   "nbconvert_exporter": "python",
   "pygments_lexer": "ipython3",
   "version": "3.10.16"
  }
 },
 "nbformat": 4,
 "nbformat_minor": 2
}
